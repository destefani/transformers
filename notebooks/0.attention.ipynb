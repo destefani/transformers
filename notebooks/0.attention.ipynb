{
 "cells": [
  {
   "cell_type": "markdown",
   "metadata": {},
   "source": [
    "# Attention is all you need\n",
    "\n",
    "Paper: [Attention Is All You Need. Vaswani et al 2017](https://arxiv.org/abs/1706.03762)\n",
    "Explanation taken from the [Illustrated Transformer](https://jalammar.github.io/illustrated-transformer/) by Jay Alammar"
   ]
  },
  {
   "cell_type": "code",
   "execution_count": 67,
   "metadata": {},
   "outputs": [],
   "source": [
    "import torch\n",
    "import torch.nn as nn"
   ]
  },
  {
   "cell_type": "markdown",
   "metadata": {},
   "source": [
    "## Attention\n",
    "\n",
    "$$ \n",
    "Attention (Q, K, V) = softmax(\\frac{QK^T}{\\sqrt{d_k}})V \n",
    "$$"
   ]
  },
  {
   "cell_type": "markdown",
   "metadata": {},
   "source": [
    "### Scaled Dot-Product Attention\n",
    "\n",
    "<img src=\"assets/scaled_dotptoduct_attention.png\" width=\"400\" height=\"400\">\n",
    "\n",
    "Let’s first look at how to calculate self-attention using vectors, then proceed to look at how it’s actually implemented – using matrices.\n",
    "\n",
    "The first step in calculating self-attention is to create three vectors from each of the encoder’s input vectors (in this case, the embedding of each word). So for each word, we create a Query vector, a Key vector, and a Value vector. These vectors are created by multiplying the embedding by three matrices that we trained during the training process.\n",
    "\n",
    "Notice that these new vectors are smaller in dimension than the embedding vector. Their dimensionality is 64, while the embedding and encoder input/output vectors have dimensionality of 512. They don’t HAVE to be smaller, this is an architecture choice to make the computation of multiheaded attention (mostly) constant.\n",
    "\n",
    "<img src=\"assets/transformer_self_attention_vectors.png\" width=\"600\" height=\"400\">"
   ]
  },
  {
   "cell_type": "code",
   "execution_count": 68,
   "metadata": {},
   "outputs": [
    {
     "name": "stdout",
     "output_type": "stream",
     "text": [
      "x1 shape: torch.Size([512])\n",
      "Wq shape: torch.Size([512, 64])\n",
      "q1 shape: torch.Size([64])\n"
     ]
    }
   ],
   "source": [
    "embedding_size = 512\n",
    "d_k = 64 \n",
    "\n",
    "x1 = torch.rand(embedding_size)        # word embedding: input vector\n",
    "\n",
    "Wq = torch.rand(embedding_size, d_k)   # query matrix\n",
    "Wk = torch.rand(embedding_size, d_k)   # key matrix\n",
    "Wv = torch.rand(embedding_size, d_k)   # value matrix\n",
    "\n",
    "q1 = torch.matmul(x1, Wq)        # query vector\n",
    "k1 = torch.matmul(x1, Wk)\n",
    "v1 = torch.matmul(x1, Wv)\n",
    "\n",
    "print(f\"x1 shape: {x1.shape}\")\n",
    "print(f\"Wq shape: {Wq.shape}\")\n",
    "print(f\"q1 shape: {q1.shape}\")"
   ]
  },
  {
   "cell_type": "markdown",
   "metadata": {},
   "source": [
    "The second step in calculating self-attention is to calculate a score. Say we’re calculating the self-attention for the first word in this example, “Thinking”. We need to score each word of the input sentence against this word. The score determines how much focus to place on other parts of the input sentence as we encode a word at a certain position.\n",
    "\n",
    "The score is calculated by taking the dot product of the query vector with the key vector of the respective word we’re scoring. So if we’re processing the self-attention for the word in position #1, the first score would be the dot product of q1 and k1. The second score would be the dot product of q1 and k2.\n",
    "\n",
    "<img src=\"assets/transformer_self_attention_score.png\" width=\"600\" height=\"350\">"
   ]
  },
  {
   "cell_type": "code",
   "execution_count": 69,
   "metadata": {},
   "outputs": [
    {
     "data": {
      "text/plain": [
       "tensor(1062170.5000)"
      ]
     },
     "execution_count": 69,
     "metadata": {},
     "output_type": "execute_result"
    }
   ],
   "source": [
    "score = torch.matmul(q1, k1)\n",
    "score"
   ]
  },
  {
   "cell_type": "markdown",
   "metadata": {},
   "source": [
    "The third and fourth steps are to divide the scores by 8 (the square root of the dimension of the key vectors used in the paper – 64. This leads to having more stable gradients. There could be other possible values here, but this is the default), then pass the result through a softmax operation. Softmax normalizes the scores so they’re all positive and add up to 1.\n",
    "\n",
    "<img src=\"assets/self-attention_softmax.png\" width=\"600\" height=\"350\">"
   ]
  },
  {
   "cell_type": "code",
   "execution_count": 70,
   "metadata": {},
   "outputs": [
    {
     "name": "stdout",
     "output_type": "stream",
     "text": [
      "normalized score: 132771.3125\n",
      "softmax score: 1.0\n"
     ]
    }
   ],
   "source": [
    "normalized_score = score / (d_k ** 0.5)\n",
    "softmax_score = torch.softmax(normalized_score, 0)\n",
    "\n",
    "print(f\"normalized score: {normalized_score}\")\n",
    "print(f\"softmax score: {softmax_score}\")"
   ]
  },
  {
   "cell_type": "code",
   "execution_count": 71,
   "metadata": {},
   "outputs": [
    {
     "data": {
      "text/plain": [
       "tensor([1., 0.])"
      ]
     },
     "execution_count": 71,
     "metadata": {},
     "output_type": "execute_result"
    }
   ],
   "source": [
    "# same example with 2 input vectors\n",
    "\n",
    "x2 = torch.rand(embedding_size)\n",
    "\n",
    "q2 = torch.matmul(x2, Wq)        # query vector\n",
    "k2 = torch.matmul(x2, Wk)\n",
    "v2 = torch.matmul(x2, Wv)\n",
    "\n",
    "score_x2 = torch.matmul(q1, k2)\n",
    "normalized_x2_score = score / (score_x2 ** 0.5)\n",
    "\n",
    "softmax_score_x_x2 = torch.softmax(torch.stack((score, score_x2)), 0)\n",
    "softmax_score_x_x2"
   ]
  },
  {
   "cell_type": "code",
   "execution_count": null,
   "metadata": {},
   "outputs": [],
   "source": []
  }
 ],
 "metadata": {
  "kernelspec": {
   "display_name": "transformers",
   "language": "python",
   "name": "python3"
  },
  "language_info": {
   "codemirror_mode": {
    "name": "ipython",
    "version": 3
   },
   "file_extension": ".py",
   "mimetype": "text/x-python",
   "name": "python",
   "nbconvert_exporter": "python",
   "pygments_lexer": "ipython3",
   "version": "3.8.10"
  },
  "orig_nbformat": 4
 },
 "nbformat": 4,
 "nbformat_minor": 2
}
